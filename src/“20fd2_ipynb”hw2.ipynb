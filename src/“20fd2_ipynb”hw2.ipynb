{
  "nbformat": 4,
  "nbformat_minor": 0,
  "metadata": {
    "kernelspec": {
      "display_name": "Python 3",
      "language": "python",
      "name": "python3"
    },
    "language_info": {
      "codemirror_mode": {
        "name": "ipython",
        "version": 3
      },
      "file_extension": ".py",
      "mimetype": "text/x-python",
      "name": "python",
      "nbconvert_exporter": "python",
      "pygments_lexer": "ipython3",
      "version": "3.7.4"
    },
    "colab": {
      "name": "“20fd2.ipynb”的副本",
      "provenance": [],
      "include_colab_link": true
    }
  },
  "cells": [
    {
      "cell_type": "markdown",
      "metadata": {
        "id": "view-in-github",
        "colab_type": "text"
      },
      "source": [
        "<a href=\"https://colab.research.google.com/github/xhang24/xiaotong/blob/master/src/%E2%80%9C20fd2_ipynb%E2%80%9Dhw2.ipynb\" target=\"_parent\"><img src=\"https://colab.research.google.com/assets/colab-badge.svg\" alt=\"Open In Colab\"/></a>"
      ]
    },
    {
      "cell_type": "markdown",
      "metadata": {
        "id": "YCbe6gWFugSR",
        "colab_type": "text"
      },
      "source": [
        "# Abstract\n",
        "- Goal:\n",
        "    - Learn the second order derivative approximation: second order central finite difference\n",
        "    - Understand convergence rate\n"
      ]
    },
    {
      "cell_type": "markdown",
      "metadata": {
        "id": "-YRcBGBTugSW",
        "colab_type": "text"
      },
      "source": [
        "# Problem \n",
        "\n",
        "Let $f(x) = \\sin x$. Plot $f''$ and $\\delta_{-h} \\delta_h f$ with $h = .5$"
      ]
    },
    {
      "cell_type": "markdown",
      "metadata": {
        "id": "KrcZyVCWugSX",
        "colab_type": "text"
      },
      "source": [
        "# Anal\n",
        "\n",
        "\n",
        "One of the commonly used FD for $f''$ is the following:\n",
        "$$f''(x) = \\frac{d}{dx} f'(x) \\simeq \\delta_h f'(x) \\simeq \\delta_h \\delta_{-h} f(x).$$\n",
        "If we write it explicitly, then\n",
        "$$f''(x) \\simeq \\frac{f(x+h) - 2 f(x) + f(x-h)}{h^2}.$$"
      ]
    },
    {
      "cell_type": "markdown",
      "metadata": {
        "id": "bdCoTX2BugSj",
        "colab_type": "text"
      },
      "source": [
        "\n",
        "__Prop__\n",
        "\n",
        "The central finite difference for the second order has convergence order $1$.\n",
        "\n",
        "__Proof__ \n",
        "\n",
        "$f(x+h)=f(x)+hf'(x)+h^2\\frac{1}{2}f''(x)+h^3\\frac{1}{6}f'''(x)+h^4\\frac{1}{24}f''''(x)$\n",
        "$f(x-h)=f(x)-hf'(x)+h^2\\frac{1}{2}f''(x)-h^3\\frac{1}{6}f'''(x)+h^4\\frac{1}{24}f''''(x)$\n",
        "\n",
        "**Add together**\n",
        "\n",
        "$f(x+h)+f(x-h)=2f(x)+h^2f''(x)+h^4\\frac{1}{12}f''''(x)$\n",
        "\n",
        "then we can get\n",
        "\n",
        "$f(x+h)+f(x-h)=2f(x)+h^2f''(x)+h^4\\frac{1}{12}f''''(x)$\n",
        "\n",
        "Divide by $h^2$\n",
        "\n",
        "$\\frac{f(x+h)+f(x-h)-2f(x)}{h^2}=f''(x)+h^2\\frac{1}{12}f''''(x)=f''(x)+h^2(\\frac{1}{12}f''''(x))=f''(x)+O(h^2)$\n",
        "\n",
        "**Thus,** \n",
        "\n",
        "$f''(x)\\simeq \\frac{f(x+h) - 2 f(x) + f(x-h)}{h^2}.$with truncation error of order $O(h^2)$\n",
        "\n",
        "\n"
      ]
    },
    {
      "cell_type": "markdown",
      "metadata": {
        "id": "iKTz7fLEugSl",
        "colab_type": "text"
      },
      "source": [
        "# Code"
      ]
    },
    {
      "cell_type": "code",
      "metadata": {
        "id": "Py2AyWBgugSm",
        "colab_type": "code",
        "colab": {}
      },
      "source": [
        "import numpy as np\n",
        "import matplotlib.pyplot as plt"
      ],
      "execution_count": 0,
      "outputs": []
    },
    {
      "cell_type": "code",
      "metadata": {
        "id": "Xbo91X0AugTD",
        "colab_type": "code",
        "colab": {}
      },
      "source": [
        "def sfd(f, x, h):\n",
        "    # your input here;\n",
        "    return (f(x+h)-2*f(x)+f(x-h))/(h*h) #central difference "
      ],
      "execution_count": 0,
      "outputs": []
    },
    {
      "cell_type": "code",
      "metadata": {
        "id": "5V9DPOgpugTH",
        "colab_type": "code",
        "outputId": "6cf1c306-21b9-4806-b14a-8848f0085b15",
        "colab": {
          "base_uri": "https://localhost:8080/",
          "height": 265
        }
      },
      "source": [
        "'''\n",
        "Remove all #s below to plot a figure:\n",
        "    x_cod: points at which the derivative to be computed\n",
        "    y_cod: estimated derivative by finite difference\n",
        "'''\n",
        "\n",
        "\n",
        "\n",
        "h =0.5\n",
        "\n",
        "x_co = np.linspace(-1*np.pi, 1*np.pi, 150)\n",
        "                \n",
        "plt.plot(x_co, -1*np.sin(x_co), label = '$-sin(x)$');\n",
        "plt.plot(x_co, sfd(np.sin, x_co, h), label = 'sfd');\n",
        "plt.legend();\n"
      ],
      "execution_count": 98,
      "outputs": [
        {
          "output_type": "display_data",
          "data": {
            "image/png": "[encoded data removed]",
            "text/plain": [
              "<Figure size 432x288 with 1 Axes>"
            ]
          },
          "metadata": {
            "tags": []
          }
        }
      ]
    },
    {
      "cell_type": "markdown",
      "metadata": {
        "id": "et9TU1ouugTL",
        "colab_type": "text"
      },
      "source": [
        "plot log-log chart for the demonstration of convergence rate, find convergence order using linear regression."
      ]
    },
    {
      "cell_type": "code",
      "metadata": {
        "id": "TLWezhwNugTk",
        "colab_type": "code",
        "outputId": "010bf25c-f5d6-43e9-d8b8-0c1bd4aa5ceb",
        "colab": {
          "base_uri": "https://localhost:8080/",
          "height": 282
        }
      },
      "source": [
        "#your input here\n",
        "\n",
        "x_target = 1*np.pi/3\n",
        "y_target=-1*np.sin(x_target)\n",
        "xx=np.arange(5,11)\n",
        "yy=1/np.power(2,xx)\n",
        "err=sfd(np.sin,x_target,yy)-(y_target)\n",
        "yy1=np.log2(np.abs(err))\n",
        "plt.plot(xx,yy1)"
      ],
      "execution_count": 99,
      "outputs": [
        {
          "output_type": "execute_result",
          "data": {
            "text/plain": [
              "[<matplotlib.lines.Line2D at 0x7fb922fa66a0>]"
            ]
          },
          "metadata": {
            "tags": []
          },
          "execution_count": 99
        },
        {
          "output_type": "display_data",
          "data": {
            "image/png": "[encoded data removed]",
            "text/plain": [
              "<Figure size 432x288 with 1 Axes>"
            ]
          },
          "metadata": {
            "tags": []
          }
        }
      ]
    },
    {
      "cell_type": "code",
      "metadata": {
        "id": "pc361s-augTv",
        "colab_type": "code",
        "colab": {
          "base_uri": "https://localhost:8080/",
          "height": 34
        },
        "outputId": "b1d4e797-20ab-4401-8551-fe21ed447265"
      },
      "source": [
        " import scipy.stats as scs\n",
        " out=scs.linregress(xx,yy1)\n",
        " print('convergence order'+str(-out[0]))\n",
        "\n"
      ],
      "execution_count": 100,
      "outputs": [
        {
          "output_type": "stream",
          "text": [
            "convergence order2.0002350881818582\n"
          ],
          "name": "stdout"
        }
      ]
    }
  ]
}
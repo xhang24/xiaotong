{
  "nbformat": 4,
  "nbformat_minor": 0,
  "metadata": {
    "colab": {
      "name": "““Untitled7.ipynb”的副本”的副本",
      "provenance": [],
      "authorship_tag": "ABX9TyNLDNK7RzojHehTenJ/L+25",
      "include_colab_link": true
    },
    "kernelspec": {
      "name": "python3",
      "display_name": "Python 3"
    }
  },
  "cells": [
    {
      "cell_type": "markdown",
      "metadata": {
        "id": "view-in-github",
        "colab_type": "text"
      },
      "source": [
        "<a href=\"https://colab.research.google.com/github/xhang24/xiaotong/blob/master/src/hw7.ipynb\" target=\"_parent\"><img src=\"https://colab.research.google.com/assets/colab-badge.svg\" alt=\"Open In Colab\"/></a>"
      ]
    },
    {
      "cell_type": "code",
      "metadata": {
        "id": "ty0mTg5xfZVp",
        "colab_type": "code",
        "colab": {}
      },
      "source": [
        "import numpy as np\n",
        "import scipy.stats as ss\n",
        "\n",
        "# dSt=0.03Stdt + σSt^γdWt, S0=100.\n",
        "\n",
        "class VanillaOption:\n",
        "    def __init__(\n",
        "        self,\n",
        "        otype = 1, \n",
        "                  \n",
        "        strike = 110.,\n",
        "        maturity = 1.,\n",
        "        market_price = 10.,\n",
        "        n=1000,\n",
        "        N=1000,\n",
        "        r=0.0475,\n",
        "        y=1,\n",
        "        vol=0.2):\n",
        "      self.otype = otype\n",
        "      self.strike = strike\n",
        "      self.maturity = maturity\n",
        "      self.market_price = market_price #this will be used for calibration\n",
        "      self.step = N\n",
        "      self.path = n\n",
        "      self.interest=r\n",
        "      self.y=y\n",
        "      self.vol=vol            \n",
        "\n",
        "    def Euler_CEV(self,S0):\n",
        "      o_type=self.otype\n",
        "      T=self.maturity\n",
        "      N=self.step\n",
        "      n=self.path\n",
        "      K=self.strike\n",
        "      r=self.interest\n",
        "      y0=self.y\n",
        "      vol0=self.vol\n",
        "      sum_value=0\n",
        "      w=T/N\n",
        "      for j in range(n):\n",
        "        S=S0\n",
        "        for i in range(N):\n",
        "          z=np.random.normal()\n",
        "          S=S+0.03*S*w+vol0*(S**y0)*np.sqrt(w)*z\n",
        "        if (S-K)*o_type >0 :\n",
        "          sum_value+=(S-K)*o_type\n",
        "      return np.exp(-r*T)*sum_value/n"
      ],
      "execution_count": 0,
      "outputs": []
    },
    {
      "cell_type": "code",
      "metadata": {
        "id": "-MLP7stQy18a",
        "colab_type": "code",
        "colab": {}
      },
      "source": [
        ""
      ],
      "execution_count": 0,
      "outputs": []
    },
    {
      "cell_type": "markdown",
      "metadata": {
        "id": "ITmtInGGuuAR",
        "colab_type": "text"
      },
      "source": [
        "then  𝜎=0.2  and  𝛾=1 , compute call price with  𝑇=1  and  𝐾=97"
      ]
    },
    {
      "cell_type": "code",
      "metadata": {
        "id": "FKdASWa-gNmC",
        "colab_type": "code",
        "outputId": "78a5705b-e1a1-4d1c-b0f9-706d81853fb7",
        "colab": {
          "base_uri": "https://localhost:8080/",
          "height": 34
        }
      },
      "source": [
        "option=VanillaOption(strike=97)\n",
        "option.Euler_CEV(100)"
      ],
      "execution_count": 6,
      "outputs": [
        {
          "output_type": "execute_result",
          "data": {
            "text/plain": [
              "10.512589850736605"
            ]
          },
          "metadata": {
            "tags": []
          },
          "execution_count": 6
        }
      ]
    },
    {
      "cell_type": "code",
      "metadata": {
        "id": "UCOcxB0qgZZn",
        "colab_type": "code",
        "colab": {}
      },
      "source": [
        "class Gbm:\n",
        "    def __init__(self,\n",
        "                 init_state = 100.,\n",
        "                 drift_ratio = 0.0475,\n",
        "                 vol_ratio = 0.2\n",
        "                ):\n",
        "        self.init_state = init_state\n",
        "        self.drift_ratio = drift_ratio\n",
        "        self.vol_ratio = vol_ratio\n",
        "        \n",
        "    def bsm_price(self, vanilla_option):\n",
        "        s0 = self.init_state\n",
        "        sigma = self.vol_ratio\n",
        "        r = self.drift_ratio\n",
        "    \n",
        "        otype = vanilla_option.otype\n",
        "        k = vanilla_option.strike\n",
        "        maturity = vanilla_option.maturity\n",
        "    \n",
        "        x1 = (np.log(s0 / k) + (r + 0.5 * sigma ** 2) \n",
        "              * maturity) / (sigma * np.sqrt(maturity))\n",
        "        x2 = x1 - sigma * np.sqrt(maturity)\n",
        "    \n",
        "        return (otype * s0 * ss.norm.cdf(otype * x1) #line break needs parenthesis\n",
        "                - otype * np.exp(-r * maturity) * k * ss.norm.cdf(otype * x2))\n"
      ],
      "execution_count": 0,
      "outputs": []
    },
    {
      "cell_type": "markdown",
      "metadata": {
        "id": "4aHyYbjmy0mg",
        "colab_type": "text"
      },
      "source": [
        ""
      ]
    },
    {
      "cell_type": "code",
      "metadata": {
        "id": "hOClnomygdMv",
        "colab_type": "code",
        "outputId": "091b422a-6682-4376-8a05-7578d5c4fb49",
        "colab": {
          "base_uri": "https://localhost:8080/",
          "height": 34
        }
      },
      "source": [
        "gbm1=Gbm(drift_ratio=0.03)\n",
        "gbm1.bsm_price(option)"
      ],
      "execution_count": 8,
      "outputs": [
        {
          "output_type": "execute_result",
          "data": {
            "text/plain": [
              "11.014613780922488"
            ]
          },
          "metadata": {
            "tags": []
          },
          "execution_count": 8
        }
      ]
    },
    {
      "cell_type": "code",
      "metadata": {
        "id": "MTvvNFLXggrX",
        "colab_type": "code",
        "outputId": "ae655a98-47db-4706-a26e-8552ba66f4a8",
        "colab": {
          "base_uri": "https://localhost:8080/",
          "height": 306
        }
      },
      "source": [
        "!git clone https://github.com/songqsh/20s_ma573.git\n",
        "%cd 20s_ma573/src/\n",
        "\n",
        "np_option_data = np.loadtxt('20optiondata2.dat', comments='#', delimiter=',')\n",
        "print('>>>otype,        maturity,  strike,       option_price')\n",
        "print(np_option_data)"
      ],
      "execution_count": 9,
      "outputs": [
        {
          "output_type": "stream",
          "text": [
            "Cloning into '20s_ma573'...\n",
            "remote: Enumerating objects: 88, done.\u001b[K\n",
            "remote: Counting objects: 100% (88/88), done.\u001b[K\n",
            "remote: Compressing objects: 100% (68/68), done.\u001b[K\n",
            "remote: Total 301 (delta 49), reused 44 (delta 20), pack-reused 213\u001b[K\n",
            "Receiving objects: 100% (301/301), 2.15 MiB | 11.76 MiB/s, done.\n",
            "Resolving deltas: 100% (158/158), done.\n",
            "/content/20s_ma573/src\n",
            ">>>otype,        maturity,  strike,       option_price\n",
            "[[  1.           0.16666667  97.           5.32705461]\n",
            " [  1.           0.16666667  99.           3.86224255]\n",
            " [  1.           0.16666667 101.           2.7204371 ]\n",
            " [  1.           0.16666667 103.           2.1202793 ]\n",
            " [  1.           0.41666667  97.           7.23756307]\n",
            " [  1.           0.41666667  99.           5.95053461]\n",
            " [  1.           0.41666667 101.           5.2640122 ]\n",
            " [  1.           0.41666667 103.           4.97493422]]\n"
          ],
          "name": "stdout"
        }
      ]
    },
    {
      "cell_type": "code",
      "metadata": {
        "id": "m-UeDS9ggijz",
        "colab_type": "code",
        "colab": {}
      },
      "source": [
        "def maturity_choice(mat_choice):\n",
        "  option_data=np_option_data[np_option_data[:,1] == mat_choice]\n",
        "  return option_data\n",
        "\n",
        "def op_list(option):\n",
        "  num_row = option.shape[0]\n",
        "  option_list = []\n",
        "  for i in range(num_row):\n",
        "    option1 = VanillaOption(\n",
        "        \n",
        "        otype = option[i,0],\n",
        "        strike = option[i,2],\n",
        "        maturity = option[i,1],\n",
        "        market_price = option[i,3]\n",
        "    )   \n",
        "    option_list.append(option1)\n",
        "  return option_list"
      ],
      "execution_count": 0,
      "outputs": []
    },
    {
      "cell_type": "code",
      "metadata": {
        "id": "2feSyYy5gj-t",
        "colab_type": "code",
        "colab": {}
      },
      "source": [
        "op_list1 = op_list(maturity_choice(5/12))"
      ],
      "execution_count": 0,
      "outputs": []
    },
    {
      "cell_type": "code",
      "metadata": {
        "id": "BnG3aYY4gnF1",
        "colab_type": "code",
        "colab": {}
      },
      "source": [
        "import scipy.optimize as so\n",
        "\n",
        "def error_function(vol_y):\n",
        "  error = 0\n",
        "  for i in np.arange(len(op_list1)):\n",
        "    op_list1[i].y=vol_y[1]\n",
        "    op_list1[i].vol=vol_y[0]\n",
        "    error = error + ((op_list1[i]).Euler_CEV(100) - (op_list1[i]).market_price)**2\n",
        "  return error\n",
        "\n",
        "initial_guess=np.ones(2)\n",
        "initial_guess[0]=0.1\n",
        "so.fmin(error_function,initial_guess,xtol=0.0001,ftol=0.0001,maxiter=200,maxfun=200)"
      ],
      "execution_count": 0,
      "outputs": []
    }
  ]
}
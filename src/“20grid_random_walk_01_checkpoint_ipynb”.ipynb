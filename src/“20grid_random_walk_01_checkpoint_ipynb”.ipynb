{
  "nbformat": 4,
  "nbformat_minor": 0,
  "metadata": {
    "kernelspec": {
      "display_name": "Python 3",
      "language": "python",
      "name": "python3"
    },
    "language_info": {
      "codemirror_mode": {
        "name": "ipython",
        "version": 3
      },
      "file_extension": ".py",
      "mimetype": "text/x-python",
      "name": "python",
      "nbconvert_exporter": "python",
      "pygments_lexer": "ipython3",
      "version": "3.7.4"
    },
    "colab": {
      "name": "“20grid_random_walk_01-checkpoint.ipynb”的副本",
      "provenance": [],
      "include_colab_link": true
    }
  },
  "cells": [
    {
      "cell_type": "markdown",
      "metadata": {
        "id": "view-in-github",
        "colab_type": "text"
      },
      "source": [
        "<a href=\"https://colab.research.google.com/github/xhang24/xiaotong/blob/master/src/%E2%80%9C20grid_random_walk_01_checkpoint_ipynb%E2%80%9D.ipynb\" target=\"_parent\"><img src=\"https://colab.research.google.com/assets/colab-badge.svg\" alt=\"Open In Colab\"/></a>"
      ]
    },
    {
      "cell_type": "markdown",
      "metadata": {
        "id": "CLRaWoeeimd5",
        "colab_type": "text"
      },
      "source": [
        "# Escaping from a Gridworld \n",
        "\n",
        "We will take n dimensional gridworld of any shape as our experimental environment. Read and understand the code in the following shell. Then proceed to next questions."
      ]
    },
    {
      "cell_type": "code",
      "metadata": {
        "id": "0Ap1Gg7jimd8",
        "colab_type": "code",
        "colab": {}
      },
      "source": [
        "import random\n",
        "\n",
        "class grid:\n",
        "    def __init__(self, shape = (5, 5)):\n",
        "        self.n_dim = len(shape)\n",
        "        self.shape = shape\n",
        "        print('>>> grid world shape is: '+str(shape))\n",
        "\n",
        "    def is_interior(self,ix):\n",
        "        return all([0.<a<b-1 for a,b in zip(ix,list(self.shape))])\n",
        "     \n",
        "    #input: lists of index\n",
        "    #return: running cost, list of next index, list of probability\n",
        "    def step(self, ix):\n",
        "        run_cost = 0.                \n",
        "        ix_next = []; pr_next= []\n",
        "        if self.is_interior(ix):\n",
        "            run_cost = 1.\n",
        "            for i in range(self.n_dim):\n",
        "                ix1 = ix.copy(); ix1[i]+=1; ix_next += [ix1,]\n",
        "                pr1 = 1./(self.n_dim*2.0) \n",
        "                pr_next += [pr1,]\n",
        "            for i in range(self.n_dim):\n",
        "                ix1 = ix.copy(); ix1[i]-=1; ix_next += [ix1,]\n",
        "                pr1 = 1./(self.n_dim*2.0) \n",
        "                pr_next += [pr1,]\n",
        "     \n",
        "        return run_cost, ix_next, pr_next\n",
        "    \n",
        "    def step_random(self, ix):\n",
        "        run_cost, ix_next, pr_next = self.step(ix)\n",
        "        ix_next_rd = random.choices(ix_next, pr_next, k = 1)\n",
        "        return run_cost, ix_next_rd[0]\n"
      ],
      "execution_count": 0,
      "outputs": []
    },
    {
      "cell_type": "markdown",
      "metadata": {
        "id": "mB8EzSafimd_",
        "colab_type": "text"
      },
      "source": [
        "- Explain the meaning of each output from the next shell\n",
        "- (Your answer)\n"
      ]
    },
    {
      "cell_type": "code",
      "metadata": {
        "id": "DVvvr9KNimd_",
        "colab_type": "code",
        "outputId": "6b066fc5-926f-4880-b489-fc5da55b5a07",
        "colab": {}
      },
      "source": [
        "\n",
        "#####check\n",
        "g1 = grid(shape=(5,5))\n",
        "ix1 = [2,3]\n",
        "print('>>>', g1.is_interior(ix1))\n",
        "o1, o2, o3 = g1.step(ix1)\n",
        "print('>>>', o1, '\\n', o2, '\\n', o3)\n",
        "\n",
        "print('>>>>>>>>><<<<<<<<<<')\n",
        "ix2 = [1,4]\n",
        "print('>>>', g1.is_interior(ix2))\n",
        "o1, o2, o3 = g1.step(ix2)\n",
        "print('>>>', o1, '\\n', o2, '\\n', o3)\n"
      ],
      "execution_count": 0,
      "outputs": [
        {
          "output_type": "stream",
          "text": [
            ">>> grid world shape is: (5, 5)\n",
            ">>> True\n",
            ">>> 1.0 \n",
            " [[3, 3], [2, 4], [1, 3], [2, 2]] \n",
            " [0.25, 0.25, 0.25, 0.25]\n",
            ">>>>>>>>><<<<<<<<<<\n",
            ">>> False\n",
            ">>> 0.0 \n",
            " [] \n",
            " []\n"
          ],
          "name": "stdout"
        }
      ]
    },
    {
      "cell_type": "markdown",
      "metadata": {
        "id": "r8o_8RXsimeF",
        "colab_type": "text"
      },
      "source": [
        "- Explain the meaning of each output from the next shell\n",
        "- (Your answer)"
      ]
    },
    {
      "cell_type": "code",
      "metadata": {
        "id": "9v-8xVHTimeF",
        "colab_type": "code",
        "outputId": "fa3d5205-aca8-487b-fd0f-d5cdfe8aaf2d",
        "colab": {}
      },
      "source": [
        "#import ipdb\n",
        "\n",
        "ix = [2,2]\n",
        "tot_cost = 0.\n",
        "while g1.is_interior(ix):\n",
        "    #ipdb.set_trace()\n",
        "    run_cost, ix = g1.step_random(ix)\n",
        "    print('>>>', ix)\n",
        "    tot_cost+=run_cost\n",
        "    \n",
        "print('>>>', tot_cost)"
      ],
      "execution_count": 0,
      "outputs": [
        {
          "output_type": "stream",
          "text": [
            ">>> [1, 2]\n",
            ">>> [1, 3]\n",
            ">>> [1, 4]\n",
            ">>> 3.0\n"
          ],
          "name": "stdout"
        }
      ]
    },
    {
      "cell_type": "markdown",
      "metadata": {
        "id": "ZtziY8mcimeI",
        "colab_type": "text"
      },
      "source": [
        "- Consider a grid world of shape (4,4). This means, the agent's state belongs to the state space of $\\{0,1,2,3,4\\}\\times \\{0,1,2,3,4\\}$. A state $(a,b)$ is called a boundary if one of its coordinate is either $0$ or $4$. Otherwise, the state is called interior. An agent moves a random walk in the grid world from initial state $(2,2)$. Use your math to find the expected number of steps to reach the boundary."
      ]
    },
    {
      "cell_type": "markdown",
      "metadata": {
        "id": "N-a-LuSoimeJ",
        "colab_type": "text"
      },
      "source": [
        "- (your answer)"
      ]
    },
    {
      "cell_type": "markdown",
      "metadata": {
        "id": "-ulCLW4QimeJ",
        "colab_type": "text"
      },
      "source": [
        "- Use your code to verify your answer."
      ]
    },
    {
      "cell_type": "code",
      "metadata": {
        "id": "YdjQ18eqimeK",
        "colab_type": "code",
        "colab": {}
      },
      "source": [
        "#your code \n",
        "pass"
      ],
      "execution_count": 0,
      "outputs": []
    },
    {
      "cell_type": "code",
      "metadata": {
        "id": "njemZiXwimeM",
        "colab_type": "code",
        "colab": {}
      },
      "source": [
        ""
      ],
      "execution_count": 0,
      "outputs": []
    }
  ]
}
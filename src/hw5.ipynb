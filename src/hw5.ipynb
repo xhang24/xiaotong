{
  "nbformat": 4,
  "nbformat_minor": 0,
  "metadata": {
    "colab": {
      "name": "“Untitled4.ipynb”的副本",
      "provenance": [],
      "authorship_tag": "ABX9TyM0DyU+zXNeyUbnqned7gBc",
      "include_colab_link": true
    },
    "kernelspec": {
      "name": "python3",
      "display_name": "Python 3"
    }
  },
  "cells": [
    {
      "cell_type": "markdown",
      "metadata": {
        "id": "view-in-github",
        "colab_type": "text"
      },
      "source": [
        "<a href=\"https://colab.research.google.com/github/xhang24/xiaotong/blob/master/src/hw5.ipynb\" target=\"_parent\"><img src=\"https://colab.research.google.com/assets/colab-badge.svg\" alt=\"Open In Colab\"/></a>"
      ]
    },
    {
      "cell_type": "code",
      "metadata": {
        "id": "MkXQjHqptneO",
        "colab_type": "code",
        "colab": {}
      },
      "source": [
        "def MCPI(N):\n",
        "  n=0\n",
        "  for i in range(N):\n",
        "    x=np.random.sample(1)\n",
        "    y=np.random.sample(1)\n",
        "    a=(x**2)+(y**2)\n",
        "    if a<=1:\n",
        "      n=n+1\n",
        "  \n",
        "  return 4*n/N"
      ],
      "execution_count": 0,
      "outputs": []
    },
    {
      "cell_type": "code",
      "metadata": {
        "id": "R7DOrDR1trnZ",
        "colab_type": "code",
        "colab": {
          "base_uri": "https://localhost:8080/",
          "height": 34
        },
        "outputId": "09b6b044-63f2-4bf1-d2cc-7e99b3bb3118"
      },
      "source": [
        "MCPI(10000)"
      ],
      "execution_count": 85,
      "outputs": [
        {
          "output_type": "execute_result",
          "data": {
            "text/plain": [
              "3.1556"
            ]
          },
          "metadata": {
            "tags": []
          },
          "execution_count": 85
        }
      ]
    },
    {
      "cell_type": "markdown",
      "metadata": {
        "id": "CogUm318AtM8",
        "colab_type": "text"
      },
      "source": [
        "\n"
      ]
    },
    {
      "cell_type": "code",
      "metadata": {
        "id": "_0aFujPatJ6t",
        "colab_type": "code",
        "colab": {}
      },
      "source": [
        "import numpy as np"
      ],
      "execution_count": 0,
      "outputs": []
    },
    {
      "cell_type": "code",
      "metadata": {
        "id": "27rSobnNa1R1",
        "colab_type": "code",
        "colab": {}
      },
      "source": [
        "def MSE_PI(n,N):\n",
        "  x=0\n",
        "  y=[]\n",
        "  for i in range(n):\n",
        "    m=MCPI(N)\n",
        "    y.append(m)\n",
        "    x=x+m\n",
        "  x=x/n\n",
        "  o=0\n",
        "  for i in range(n):\n",
        "    o=o+((y[i]-x)**2)\n",
        " \n",
        "  return o/n"
      ],
      "execution_count": 0,
      "outputs": []
    },
    {
      "cell_type": "code",
      "metadata": {
        "id": "vdmbiXTqtZD-",
        "colab_type": "code",
        "colab": {
          "base_uri": "https://localhost:8080/",
          "height": 34
        },
        "outputId": "f0ed2972-5279-4541-ae10-2d082f6860e0"
      },
      "source": [
        "  MSE_PI(100,10000)"
      ],
      "execution_count": 88,
      "outputs": [
        {
          "output_type": "execute_result",
          "data": {
            "text/plain": [
              "0.0002872796640000001"
            ]
          },
          "metadata": {
            "tags": []
          },
          "execution_count": 88
        }
      ]
    },
    {
      "cell_type": "code",
      "metadata": {
        "id": "MjC0Xo3CwL8h",
        "colab_type": "code",
        "colab": {}
      },
      "source": [
        "import matplotlib.pyplot as plt\n"
      ],
      "execution_count": 0,
      "outputs": []
    },
    {
      "cell_type": "code",
      "metadata": {
        "id": "5gRzrVdVxdWR",
        "colab_type": "code",
        "colab": {
          "base_uri": "https://localhost:8080/",
          "height": 299
        },
        "outputId": "62efe457-0a72-46a3-b025-380912d80871"
      },
      "source": [
        "n=[]\n",
        "m=[]\n",
        "for i in range(5,10):\n",
        "  N=2**i\n",
        "  n.append(a)\n",
        "  m.append(MSE_PI(100,a))\n",
        "\n",
        "print('The estimation  is',y)\n",
        "tt=np.log2(x)\n",
        "ss=np.log2(y)\n",
        "plt.plot(tt,ss)"
      ],
      "execution_count": 90,
      "outputs": [
        {
          "output_type": "stream",
          "text": [
            "The estimation  is [0.0765625, 0.04945312500000001, 0.02186279296875, 0.015045507812499992, 0.006533074951171876]\n"
          ],
          "name": "stdout"
        },
        {
          "output_type": "execute_result",
          "data": {
            "text/plain": [
              "[<matplotlib.lines.Line2D at 0x7fd815a622e8>]"
            ]
          },
          "metadata": {
            "tags": []
          },
          "execution_count": 90
        },
        {
          "output_type": "display_data",
          "data": {
            "image/png": "[encoded data removed]",
            "text/plain": [
              "<Figure size 432x288 with 1 Axes>"
            ]
          },
          "metadata": {
            "tags": []
          }
        }
      ]
    },
    {
      "cell_type": "code",
      "metadata": {
        "id": "CF_UGuo4yYCx",
        "colab_type": "code",
        "colab": {}
      },
      "source": [
        "def MCINTEGRAL(N):\n",
        "  s=0\n",
        "  for i in range(N):\n",
        "    y=np.random.uniform(0,1)\n",
        "    if y<=0.01:\n",
        "      s=s+100*y\n",
        "    else:\n",
        "      s=s+1\n",
        "    \n",
        "  return s/N"
      ],
      "execution_count": 0,
      "outputs": []
    },
    {
      "cell_type": "code",
      "metadata": {
        "id": "vZuTXbuszDly",
        "colab_type": "code",
        "colab": {
          "base_uri": "https://localhost:8080/",
          "height": 34
        },
        "outputId": "c10756c6-42b6-411b-8f5d-f8b39bdee226"
      },
      "source": [
        "MCINTEGRAL(1000000)"
      ],
      "execution_count": 92,
      "outputs": [
        {
          "output_type": "execute_result",
          "data": {
            "text/plain": [
              "0.9949627758767251"
            ]
          },
          "metadata": {
            "tags": []
          },
          "execution_count": 92
        }
      ]
    },
    {
      "cell_type": "code",
      "metadata": {
        "id": "GFrggAxkzp1d",
        "colab_type": "code",
        "colab": {}
      },
      "source": [
        "def MSE_PI(n,N):\n",
        "  x=0\n",
        "  y=[]\n",
        "  for i in range(n):\n",
        "    m=MCINTEGRAL(N)\n",
        "    y.append(m)\n",
        "    x=x+m\n",
        "  x=x/n\n",
        "  o=0\n",
        "  for i in range(n):\n",
        "    o=o+((y[i]-x)**2)\n",
        " \n",
        "  return o/n\n",
        "\n"
      ],
      "execution_count": 0,
      "outputs": []
    },
    {
      "cell_type": "code",
      "metadata": {
        "id": "gT7CwpEKzxoS",
        "colab_type": "code",
        "colab": {
          "base_uri": "https://localhost:8080/",
          "height": 299
        },
        "outputId": "cd37e3c9-0fbb-4058-8f7f-acc8c112588b"
      },
      "source": [
        "n=[]\n",
        "m=[]\n",
        "for i in range(5,10):\n",
        "  N=2**i\n",
        "  n.append(a)\n",
        "  m.append(MSE_PI(100,a))\n",
        "\n",
        "print('The estimation  is',y)\n",
        "tt=np.log2(x)\n",
        "ss=np.log2(y)\n",
        "plt.plot(tt,ss)"
      ],
      "execution_count": 94,
      "outputs": [
        {
          "output_type": "stream",
          "text": [
            "The estimation  is [0.0765625, 0.04945312500000001, 0.02186279296875, 0.015045507812499992, 0.006533074951171876]\n"
          ],
          "name": "stdout"
        },
        {
          "output_type": "execute_result",
          "data": {
            "text/plain": [
              "[<matplotlib.lines.Line2D at 0x7fd8159c47b8>]"
            ]
          },
          "metadata": {
            "tags": []
          },
          "execution_count": 94
        },
        {
          "output_type": "display_data",
          "data": {
            "image/png": "[encoded data removed]",
            "text/plain": [
              "<Figure size 432x288 with 1 Axes>"
            ]
          },
          "metadata": {
            "tags": []
          }
        }
      ]
    },
    {
      "cell_type": "code",
      "metadata": {
        "id": "3lmxtBVd0DPx",
        "colab_type": "code",
        "colab": {}
      },
      "source": [
        ""
      ],
      "execution_count": 0,
      "outputs": []
    }
  ]
}
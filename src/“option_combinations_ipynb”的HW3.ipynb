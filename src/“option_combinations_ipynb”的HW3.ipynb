{
  "nbformat": 4,
  "nbformat_minor": 0,
  "metadata": {
    "colab": {
      "name": "“option_combinations.ipynb”的副本",
      "provenance": [],
      "include_colab_link": true
    },
    "kernelspec": {
      "display_name": "Python 3",
      "language": "python",
      "name": "python3"
    },
    "language_info": {
      "codemirror_mode": {
        "name": "ipython",
        "version": 3
      },
      "file_extension": ".py",
      "mimetype": "text/x-python",
      "name": "python",
      "nbconvert_exporter": "python",
      "pygments_lexer": "ipython3",
      "version": "3.7.4"
    }
  },
  "cells": [
    {
      "cell_type": "markdown",
      "metadata": {
        "id": "view-in-github",
        "colab_type": "text"
      },
      "source": [
        "<a href=\"https://colab.research.google.com/github/xhang24/xiaotong/blob/master/src/%E2%80%9Coption_combinations_ipynb%E2%80%9D%E7%9A%84HW3.ipynb\" target=\"_parent\"><img src=\"https://colab.research.google.com/assets/colab-badge.svg\" alt=\"Open In Colab\"/></a>"
      ]
    },
    {
      "cell_type": "markdown",
      "metadata": {
        "colab_type": "text",
        "id": "C8HzenUTSqhK"
      },
      "source": [
        "Recall that, \n",
        "\n",
        "\n",
        "__Written K-strike straddle__ is a portfolio of\n",
        "- selling K-strike call of one unit\n",
        "- selling K-strike put of one unit\n",
        "\n",
        "__Butterfly__ with three stikes $K_1 < K_2 < K_3$ is the portfolio of\n",
        "- 1 unit of written K-strike straddle\n",
        "- 1 unit of purchased K-strike call\n",
        "- 1 unit of purchased K-strike put\n",
        "\n",
        "Plot a diagram of exercise price versus payoff for the following portfolios:\n",
        "- written 40-strike straddle\n",
        "- a butterfly consists of\n",
        "  - written 40-strike straddle\n",
        "  - purchased 45-strike call\n",
        "  - purchased 35-strike put"
      ]
    },
    {
      "cell_type": "code",
      "metadata": {
        "colab_type": "code",
        "id": "Fkeqt5l6TWgP",
        "colab": {}
      },
      "source": [
        "import numpy as np\n",
        "\n"
      ],
      "execution_count": 0,
      "outputs": []
    },
    {
      "cell_type": "code",
      "metadata": {
        "id": "rVGDXqHeDKOZ",
        "colab_type": "code",
        "colab": {}
      },
      "source": [
        "class VOption:\n",
        "  def __init__(\n",
        "      self, \n",
        "      otype=1, \n",
        "      strike=110, \n",
        "      maturity=1, \n",
        "      market_price = 10.):\n",
        "    self.otype=otype\n",
        "    self.strike=strike\n",
        "    self.maturity=maturity\n",
        "    self.market_price=market_price\n",
        "    \n",
        "  def payoff(self, S):\n",
        "    results=[]\n",
        "    otype=self.otype\n",
        "    K=self.strike\n",
        "    maturity=self.maturity\n",
        "    for s in S:\n",
        "      results.append(np.max([0,(s-K)*otype]))#Payoff of European call with strike $K$ and exercise price $S$ is given as\n",
        "    return results"
      ],
      "execution_count": 0,
      "outputs": []
    },
    {
      "cell_type": "code",
      "metadata": {
        "id": "1wHg2UjsDGpd",
        "colab_type": "code",
        "colab": {}
      },
      "source": [
        "import matplotlib.pyplot as plt"
      ],
      "execution_count": 0,
      "outputs": []
    },
    {
      "cell_type": "code",
      "metadata": {
        "id": "wKKHji8wBomk",
        "colab_type": "code",
        "colab": {
          "base_uri": "https://localhost:8080/",
          "height": 279
        },
        "outputId": "e609eca7-835d-4af1-e446-4b940d945497"
      },
      "source": [
        "def Straddle(K, S):\n",
        "  call=VOption(otype=1,strike=K)\n",
        "  put=VOption(otype=-1,strike=K)\n",
        "  OP1=VOption.payoff(call,S)\n",
        "  OP2=VOption.payoff(put,S)\n",
        "  return np.add(OP1,OP2)\n",
        "s=np.linspace(20, 61)\n",
        "K=40\n",
        "ys=Straddle(K,s)\n",
        "plt.figure('Straddle')\n",
        "plt.xlabel('Exercise Price')\n",
        "plt.ylabel('Payoff')\n",
        "plt.plot(s,-ys)\n",
        "plt.show()"
      ],
      "execution_count": 52,
      "outputs": [
        {
          "output_type": "display_data",
          "data": {
            "image/png": "[encoded data removed]",
            "text/plain": [
              "<Figure size 432x288 with 1 Axes>"
            ]
          },
          "metadata": {
            "tags": []
          }
        }
      ]
    },
    {
      "cell_type": "code",
      "metadata": {
        "id": "njR5ekdNGbkS",
        "colab_type": "code",
        "colab": {
          "base_uri": "https://localhost:8080/",
          "height": 279
        },
        "outputId": "d0a99444-531c-4685-cf75-448c226bbbaa"
      },
      "source": [
        "def Butterfly(K1, K2, K3, S):\n",
        "  call=VOption(otype=1, strike=K3)\n",
        "  put=VOption(otype=-1, strike=K1)\n",
        "  OPP1=VOption.payoff(call, S)\n",
        "  OPP2=VOption.payoff(put,S)\n",
        "  return np.add(np.add(OPP1,OPP2),-Straddle(K2, S))\n",
        "S=np.linspace(20,61)\n",
        "K=40\n",
        "ys=Butterfly(35, 40, 45, S)\n",
        "plt.figure('Butterfly')\n",
        "plt.xlabel('Exercise Price')\n",
        "plt.ylabel('Payoff')\n",
        "plt.plot(S,ys)\n",
        "plt.show()"
      ],
      "execution_count": 55,
      "outputs": [
        {
          "output_type": "display_data",
          "data": {
            "image/png": "[encoded data removed]",
            "text/plain": [
              "<Figure size 432x288 with 1 Axes>"
            ]
          },
          "metadata": {
            "tags": []
          }
        }
      ]
    }
  ]
}